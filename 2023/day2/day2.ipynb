{
 "cells": [
  {
   "cell_type": "code",
   "execution_count": 1,
   "metadata": {},
   "outputs": [],
   "source": [
    "part1=\"\"\"Game 1: 3 blue, 4 red; 1 red, 2 green, 6 blue; 2 green\n",
    "Game 2: 1 blue, 2 green; 3 green, 4 blue, 1 red; 1 green, 1 blue\n",
    "Game 3: 8 green, 6 blue, 20 red; 5 blue, 4 red, 13 green; 5 green, 1 red\n",
    "Game 4: 1 green, 3 red, 6 blue; 3 green, 6 red; 3 green, 15 blue, 14 red\n",
    "Game 5: 6 red, 1 blue, 3 green; 2 blue, 1 red, 2 green\"\"\""
   ]
  },
  {
   "cell_type": "code",
   "execution_count": 26,
   "metadata": {},
   "outputs": [],
   "source": [
    "with open(\"input\", \"r\") as f:\n",
    "    input = f.read()"
   ]
  },
  {
   "cell_type": "code",
   "execution_count": 27,
   "metadata": {},
   "outputs": [
    {
     "data": {
      "text/plain": [
       "2685"
      ]
     },
     "execution_count": 27,
     "metadata": {},
     "output_type": "execute_result"
    }
   ],
   "source": [
    "import re\n",
    "\n",
    "\n",
    "def sum_id(text: str):\n",
    "    lines = text.split(\"\\n\")\n",
    "    return sum(posible_game(line) for line in lines)\n",
    "\n",
    "\n",
    "def posible_game(line: str):\n",
    "    bag = {\"red\": 12, \"green\": 13, \"blue\": 14}\n",
    "    game_id, cubes = line.split(\":\")\n",
    "    game_id = int(game_id.split(\" \")[1])\n",
    "\n",
    "    cubes = re.split(r\"[,;]\", cubes)\n",
    "\n",
    "    for cube in cubes:\n",
    "        count, color = cube.strip().split(\" \")\n",
    "        if bag[color] < int(count):\n",
    "            return 0\n",
    "\n",
    "    return game_id\n",
    "\n",
    "\n",
    "sum_id(input)"
   ]
  },
  {
   "cell_type": "code",
   "execution_count": 29,
   "metadata": {},
   "outputs": [
    {
     "data": {
      "text/plain": [
       "83707"
      ]
     },
     "execution_count": 29,
     "metadata": {},
     "output_type": "execute_result"
    }
   ],
   "source": [
    "def sum_part2(text:str):\n",
    "    lines = text.split(\"\\n\")\n",
    "    return sum(power(line) for line in lines)\n",
    "\n",
    "def power(line: str):\n",
    "    bag = {\"red\": 0, \"green\": 0, \"blue\": 0}\n",
    "    _, cubes = line.split(\":\")\n",
    "    \n",
    "    cubes = re.split(r\"[,;]\", cubes)\n",
    "    for cube in cubes:\n",
    "        count, color = cube.strip().split(\" \")\n",
    "        if bag[color] < int(count):\n",
    "            bag[color] = int(count)\n",
    "            \n",
    "    return bag[\"red\"]*bag[\"green\"]*bag[\"blue\"]\n",
    "\n",
    "sum_part2(input)"
   ]
  }
 ],
 "metadata": {
  "kernelspec": {
   "display_name": "venv",
   "language": "python",
   "name": "python3"
  },
  "language_info": {
   "codemirror_mode": {
    "name": "ipython",
    "version": 3
   },
   "file_extension": ".py",
   "mimetype": "text/x-python",
   "name": "python",
   "nbconvert_exporter": "python",
   "pygments_lexer": "ipython3",
   "version": "3.12.0"
  }
 },
 "nbformat": 4,
 "nbformat_minor": 2
}
