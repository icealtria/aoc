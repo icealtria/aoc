{
 "cells": [
  {
   "cell_type": "code",
   "execution_count": 75,
   "metadata": {},
   "outputs": [],
   "source": [
    "part1 = \"\"\"1abc2\n",
    "pqr3stu8vwx\n",
    "a1b2c3d4e5f\n",
    "treb7uchet\"\"\"\n",
    "\n",
    "part1 = part1.split('\\n')"
   ]
  },
  {
   "cell_type": "code",
   "execution_count": 98,
   "metadata": {},
   "outputs": [],
   "source": [
    "with open(\"input\", \"r\") as f:\n",
    "    lines = f.read().strip().split('\\n')"
   ]
  },
  {
   "cell_type": "code",
   "execution_count": 80,
   "metadata": {},
   "outputs": [
    {
     "data": {
      "text/plain": [
       "55538"
      ]
     },
     "execution_count": 80,
     "metadata": {},
     "output_type": "execute_result"
    }
   ],
   "source": [
    "def extract_numbers(line: str):\n",
    "    first = [c for c in line if c.isdigit()][0]\n",
    "    line = line[::-1]\n",
    "    last = [c for c in line if c.isdigit()][0]\n",
    "    return int(first + last)\n",
    "\n",
    "sum(extract_numbers(line) for line in lines)"
   ]
  },
  {
   "cell_type": "code",
   "execution_count": 95,
   "metadata": {},
   "outputs": [],
   "source": [
    "part2 = \"\"\"two1nine\n",
    "eightwothree\n",
    "abcone2threexyz\n",
    "xtwone3four\n",
    "4nineeightseven2\n",
    "zoneight234\n",
    "7pqrstsixteen\"\"\"\n",
    "\n",
    "part2 = part2.split('\\n')"
   ]
  },
  {
   "cell_type": "code",
   "execution_count": 99,
   "metadata": {},
   "outputs": [
    {
     "data": {
      "text/plain": [
       "54875"
      ]
     },
     "execution_count": 99,
     "metadata": {},
     "output_type": "execute_result"
    }
   ],
   "source": [
    "import re\n",
    "\n",
    "def extract_numbers(line: str):\n",
    "    pattern = r\"(?:\\d|one|two|three|four|five|six|seven|eight|nine|eno|owt|eerht|ruof|evif|xis|neves|thgie|enin)\"\n",
    "\n",
    "    first = re.findall(pattern, line)[0]\n",
    "    last = re.findall(pattern, line[::-1])[0]\n",
    "    \n",
    "    first = c2digit(first)\n",
    "    last = c2digit(last)\n",
    "    \n",
    "    return int(first + last)   \n",
    "\n",
    "\n",
    "def c2digit(word: str):\n",
    "    word_dict = {\n",
    "        \"one\": \"1\",\n",
    "        \"two\": \"2\",\n",
    "        \"three\": \"3\",\n",
    "        \"four\": \"4\",\n",
    "        \"five\": \"5\",\n",
    "        \"six\": \"6\",\n",
    "        \"seven\": \"7\",\n",
    "        \"eight\": \"8\",\n",
    "        \"nine\": \"9\",\n",
    "        \"eno\": \"1\",\n",
    "        \"owt\": \"2\",\n",
    "        \"eerht\": \"3\",\n",
    "        \"ruof\": \"4\",\n",
    "        \"evif\": \"5\",\n",
    "        \"xis\": \"6\",\n",
    "        \"neves\": \"7\",\n",
    "        \"thgie\": \"8\",\n",
    "        \"enin\": \"9\",\n",
    "    }\n",
    "\n",
    "    if word in word_dict:\n",
    "        return word_dict[word]\n",
    "    else:\n",
    "        return word\n",
    "\n",
    "sum(extract_numbers(line) for line in lines)"
   ]
  }
 ],
 "metadata": {
  "kernelspec": {
   "display_name": "venv",
   "language": "python",
   "name": "python3"
  },
  "language_info": {
   "codemirror_mode": {
    "name": "ipython",
    "version": 3
   },
   "file_extension": ".py",
   "mimetype": "text/x-python",
   "name": "python",
   "nbconvert_exporter": "python",
   "pygments_lexer": "ipython3",
   "version": "3.12.0"
  }
 },
 "nbformat": 4,
 "nbformat_minor": 2
}
