{
 "cells": [
  {
   "cell_type": "code",
   "execution_count": null,
   "metadata": {},
   "outputs": [],
   "source": [
    "example = \"\"\"AAA = (BBB, CCC)\n",
    "BBB = (DDD, EEE)\n",
    "CCC = (ZZZ, GGG)\n",
    "DDD = (DDD, DDD)\n",
    "EEE = (EEE, EEE)\n",
    "GGG = (GGG, GGG)\n",
    "ZZZ = (ZZZ, ZZZ)\"\"\"\n",
    "\n",
    "direction = \"RL\"\n",
    "\n",
    "nodes = dict()\n",
    "\n",
    "with open(\"input\") as f:\n",
    "    direction, lines = f.read().split(\"\\n\\n\")\n",
    "\n",
    "for line in lines.splitlines():\n",
    "    left, right = line.split(\" = \")\n",
    "    left = left.split(\" \")[0]\n",
    "    right = tuple(right.replace(\"(\", \"\").replace(\")\", \"\").split(\", \"))\n",
    "    nodes[left] = right\n",
    "\n",
    "steps = 0\n",
    "\n",
    "curr = \"AAA\"\n",
    "direction_index = 0\n",
    "while curr != 'ZZZ':\n",
    "    steps += 1\n",
    "    d = direction[direction_index]\n",
    "    direction_index = (direction_index + 1) % len(direction)\n",
    "    curr = nodes[curr][1 if d == 'R' else 0]\n",
    "    print(curr)\n",
    "\n",
    "print(steps)"
   ]
  }
 ],
 "metadata": {
  "kernelspec": {
   "display_name": "venv",
   "language": "python",
   "name": "python3"
  },
  "language_info": {
   "codemirror_mode": {
    "name": "ipython",
    "version": 3
   },
   "file_extension": ".py",
   "mimetype": "text/x-python",
   "name": "python",
   "nbconvert_exporter": "python",
   "pygments_lexer": "ipython3",
   "version": "3.12.0"
  }
 },
 "nbformat": 4,
 "nbformat_minor": 2
}
